{
  "nbformat": 4,
  "nbformat_minor": 0,
  "metadata": {
    "colab": {
      "provenance": []
    },
    "kernelspec": {
      "name": "python3",
      "display_name": "Python 3"
    },
    "language_info": {
      "name": "python"
    }
  },
  "cells": [
    {
      "cell_type": "code",
      "execution_count": 2,
      "metadata": {
        "colab": {
          "base_uri": "https://localhost:8080/"
        },
        "id": "9sLFBSMUuOQx",
        "outputId": "c6429049-29e0-4655-d076-78d2aebf916b"
      },
      "outputs": [
        {
          "output_type": "stream",
          "name": "stdout",
          "text": [
            "Looking in indexes: https://pypi.org/simple, https://us-python.pkg.dev/colab-wheels/public/simple/\n",
            "Collecting git+https://github.com/jkirkby3/pymle\n",
            "  Cloning https://github.com/jkirkby3/pymle to /tmp/pip-req-build-w6khx5or\n",
            "  Running command git clone -q https://github.com/jkirkby3/pymle /tmp/pip-req-build-w6khx5or\n",
            "  Installing build dependencies ... \u001b[?25l\u001b[?25hdone\n",
            "  Getting requirements to build wheel ... \u001b[?25l\u001b[?25hdone\n",
            "    Preparing wheel metadata ... \u001b[?25l\u001b[?25hdone\n",
            "Requirement already satisfied: numpy in /usr/local/lib/python3.8/dist-packages (from PyMLE==0.0.1) (1.21.6)\n",
            "Building wheels for collected packages: PyMLE\n",
            "  Building wheel for PyMLE (PEP 517) ... \u001b[?25l\u001b[?25hdone\n",
            "  Created wheel for PyMLE: filename=PyMLE-0.0.1-py3-none-any.whl size=38015 sha256=9664b64806f182c95713e77db2fdc3862a6afc9d8fac69a49a33fc05bbb7a642\n",
            "  Stored in directory: /tmp/pip-ephem-wheel-cache-_ru2en7p/wheels/cd/1e/47/b1240ec565910918e972d8bc400bc27859de0658a5cc94b937\n",
            "Successfully built PyMLE\n",
            "Installing collected packages: PyMLE\n",
            "Successfully installed PyMLE-0.0.1\n"
          ]
        }
      ],
      "source": [
        "pip install git+https://github.com/jkirkby3/pymle"
      ]
    },
    {
      "cell_type": "code",
      "source": [
        "from pymle.models import OrnsteinUhlenbeck, CKLS\n",
        "from pymle.sim.Simulator1D import Simulator1D\n",
        "from pymle.TransitionDensity import ExactDensity, EulerDensity\n",
        "from pymle.fit.AnalyticalMLE import AnalyticalMLE\n",
        "import numpy as np\n",
        "from matplotlib import pyplot as plt\n",
        "from scipy import stats"
      ],
      "metadata": {
        "id": "PbNktQiSupcy"
      },
      "execution_count": 3,
      "outputs": []
    },
    {
      "cell_type": "code",
      "source": [
        "def explicit_estimator(kappa, mu, sigma, x0, N, delta, param_bounds, guess):\n",
        "  model = OrnsteinUhlenbeck()  \n",
        "  model.params = np.array([kappa, mu, sigma])\n",
        "  seed = None\n",
        "\n",
        "  simulator = Simulator1D(S0=x0, M=N, dt=delta, model=model).set_seed(seed=seed)\n",
        "  sample = simulator.sim_path()\n",
        "\n",
        "  exact_est = AnalyticalMLE(sample, param_bounds, delta, density=ExactDensity(model)).estimate_params(guess)\n",
        "  print(f'\\nExact MLE: {exact_est}')\n",
        "  \n",
        "def theta_to_kms(theta1, theta2, theta3):\n",
        "  kappa = theta2\n",
        "  mu = theta1 / theta2\n",
        "  sigma = theta3\n",
        "  return kappa, mu, sigma\n",
        "\n",
        "def Ornstein_Uhlenbeck_process(x0, delta_w, N, delta, kappa, mu, sigma, t):\n",
        "  ito = 0\n",
        "  x = np.zeros(N)\n",
        "  x[0] = x0\n",
        "  for i in range(1, N):\n",
        "    ito += np.exp(kappa * t[i-1]) * delta_w[i]\n",
        "    x[i] = mu + np.exp(- kappa * t[i]) * (x0 - mu + sigma * ito)\n",
        "  return x\n",
        "\n",
        "def eval_theta1_theta2_MLE(delta, x, n):\n",
        "  kappa = - 1/delta * np.log(sum([x[i] * x[i-1] for i in range(1, n)])/sum([x[i]**2 for i in range(n-1)]))\n",
        "  sigma_sq = 2* kappa / (n * (1 - np.exp(-2*delta*kappa))) * sum([(x[i] - x[i-1] * np.exp(- delta * kappa))**2 for i in range(1, n)])\n",
        "  print(f\"mle kappa : {kappa}\")\n",
        "  print(f\"mle sigma : {sigma_sq**(1/2)}\")\n",
        "\n",
        "def eval_maximum_likelihood_estimators(delta, x, n):\n",
        "  beta1 = ((n**(-1) * sum([x[i] * x[i-1] for i in range(1, n)])\n",
        "            - n**(-2) * sum(x[1:n]) * sum(x[0:n-1])\n",
        "            )\n",
        "          / (n**(-1) * sum([x[i]**2 for i in range(n-1)])\n",
        "            - n**(-2) * sum(x[:n-1])**2\n",
        "            )\n",
        "          )\n",
        "  \n",
        "  beta2 = n**(-1) * sum([x[i] - beta1 * x[i-1] for i in range(1, n)]) / (1 - beta1)\n",
        "  beta3 = n**(-1) * sum([(x[i] - beta1 * x[i-1] - beta2 * (1 - beta1))**2 for i in range(1, n)])\n",
        "\n",
        "  kappa = - delta**(-1) * np.log(beta1)  # rate of mean reversion\n",
        "  mu = beta2  # long term level of process\n",
        "  sigma_sq = 2 * kappa * beta3 * (1 - beta1**2)**(-1) # volatility\n",
        "\n",
        "  print(f\"mle kappa : {kappa}\")\n",
        "  print(f\"mle mu : {mu}\")\n",
        "  print(f\"mle sigma : {sigma_sq**(1/2)}\")\n",
        "\n",
        "def estimate_parameters(x0, x, N, delta, theta1, theta2, theta3, param_bounds, guess):\n",
        "  kappa, mu, sigma = theta_to_kms(theta1, theta2, theta3)\n",
        "\n",
        "  print(\"real kappa, mu, sigma = \", kappa, mu, sigma, \"\\n\")\n",
        "  if theta1 == 0:\n",
        "    eval_theta1_theta2_MLE(delta, x, N)\n",
        "  else:\n",
        "    eval_maximum_likelihood_estimators(delta, x, N)\n",
        "  print()\n",
        "  explicit_estimator(kappa, mu, sigma, x0, N, delta, param_bounds, guess)\n"
      ],
      "metadata": {
        "id": "KORTyJbPRrxX"
      },
      "execution_count": 18,
      "outputs": []
    },
    {
      "cell_type": "code",
      "source": [
        "#task 1\n",
        "\n",
        "def ou_random_number_generator(x, theta1, theta2, theta3, t, delta_w, N):\n",
        "  ou_mean = theta1 / theta2 + (x - theta1 / theta2) * np.exp(- theta2 * t)\n",
        "  ou_variance = theta3**2 / (2 * theta2) * (1 - np.exp(- 2 * theta2 * t))\n",
        "  return np.random.normal(ou_mean, ou_variance, 1)\n",
        "\n",
        "def find_MLE_of_the_random_process():\n",
        "  theta1 = 3\n",
        "  theta2 = 1\n",
        "  theta3 = 2\n",
        "\n",
        "  param_bounds = [(0.01, 4), (0.01, 4.0), (0.01, 2.5)]\n",
        "  guess = np.array([0.4, 0.4, 1.4])\n",
        "\n",
        "  x0 = 10  \n",
        "  N = 1000\n",
        "  T = 1\n",
        "  t = np.linspace(0, T, N)\n",
        "  delta = T / N\n",
        "  z = np.random.normal(0, 1, N)\n",
        "  delta_w = z * np.sqrt(delta)\n",
        "\n",
        "  ou_random_numbers = []\n",
        "  for i in range(1, 1001):\n",
        "    ou_random_numbers.append(ou_random_number_generator(x0, theta1, theta2, theta3, delta, delta_w, N))\n",
        "\n",
        "  ou_count, ou_bins_count = np.histogram(ou_random_numbers)\n",
        "  ou_pdf = ou_count / sum(ou_count)\n",
        "  plt.plot(ou_bins_count[:-1], ou_pdf, label=\"PDF\", color=\"purple\")\n",
        "  plt.legend()\n",
        "  plt.ylabel('volume')\n",
        "  plt.xlabel('x_value')\n",
        "  plt.show()\n",
        "\n",
        "  estimate_parameters(x0, ou_random_numbers, N, delta, theta1, theta2, theta3, param_bounds, guess)\n",
        "\n",
        "find_MLE_of_the_random_process()"
      ],
      "metadata": {
        "colab": {
          "base_uri": "https://localhost:8080/",
          "height": 623
        },
        "id": "dr3YVuMAsaON",
        "outputId": "70c3f19c-4ef2-4595-9c0e-de2978fda5c6"
      },
      "execution_count": 20,
      "outputs": [
        {
          "output_type": "display_data",
          "data": {
            "text/plain": [
              "<Figure size 432x288 with 1 Axes>"
            ],
            "image/png": "[encoded data removed]"
          },
          "metadata": {
            "needs_background": "light"
          }
        },
        {
          "output_type": "stream",
          "name": "stdout",
          "text": [
            "real kappa, mu, sigma =  1 3.0 2 \n",
            "\n",
            "mle kappa : [0.15651886]\n",
            "mle mu : [9.97749396]\n",
            "mle sigma : [0.17669366]\n",
            "\n",
            "Initial Params: [0.4 0.4 1.4]\n",
            "Initial Likelihood: 1218.1794225401545\n",
            "`gtol` termination condition is satisfied.\n",
            "Number of iterations: 45, function evaluations: 152, CG iterations: 89, optimality: 4.29e-07, constraint violation: 0.00e+00, execution time: 0.25 s.\n",
            "Final Params: [0.91766102 3.99998946 1.96044385]\n",
            "Final Likelihood: 1362.226953811121\n",
            "\n",
            "Exact MLE: \n",
            "params      | [0.91766102 3.99998946 1.96044385] \n",
            "sample size | 1000 \n",
            "likelihood  | 1362.226953811121 \n",
            "AIC         | -2718.453907622242\n",
            "BIC         | -2703.7306417852956\n"
          ]
        }
      ]
    },
    {
      "cell_type": "code",
      "source": [
        "#task 2 \n",
        "\n",
        "def find_MLE_of_the_process():\n",
        "  x0 = 10  \n",
        "  N = 1000\n",
        "  T = 1\n",
        "  t = np.linspace(0, T, N)\n",
        "  delta = T / N\n",
        "  z = np.random.normal(0, 1, N)\n",
        "  delta_w = z * np.sqrt(delta)\n",
        "  theta1 = 0\n",
        "  theta2 = 3\n",
        "  theta3 = 2\n",
        "\n",
        "  kappa, mu, sigma = theta_to_kms(theta1, theta2, theta3)\n",
        "  param_bounds = [(0.01, 4), (0.0, 0.0), (0.01, 2.5)]\n",
        "  guess = np.array([0.2, 0.0, 1.4])\n",
        "\n",
        "  x = Ornstein_Uhlenbeck_process(x0, delta_w, N, delta, kappa, mu, sigma, t)\n",
        "  plt.plot(t, x, label = 'Ornstein Uhlenbeck process')\n",
        "  plt.xlabel('time')\n",
        "  plt.ylabel('x')\n",
        "  plt.legend()\n",
        "  plt.show()\n",
        "  estimate_parameters(x0, x, N, delta, theta1, theta2, theta3, param_bounds, guess)\n",
        "\n",
        "find_MLE_of_the_process()"
      ],
      "metadata": {
        "colab": {
          "base_uri": "https://localhost:8080/",
          "height": 605
        },
        "id": "kvEuhnqKK1lM",
        "outputId": "2c40d456-8728-4a89-9d49-4105e938f593"
      },
      "execution_count": 19,
      "outputs": [
        {
          "output_type": "display_data",
          "data": {
            "text/plain": [
              "<Figure size 432x288 with 1 Axes>"
            ],
            "image/png": "[encoded data removed]"
          },
          "metadata": {
            "needs_background": "light"
          }
        },
        {
          "output_type": "stream",
          "name": "stdout",
          "text": [
            "real kappa, mu, sigma =  3 0.0 2 \n",
            "\n",
            "mle kappa : 3.372738367532808\n",
            "mle sigma : 2.0568709106286853\n",
            "\n",
            "Initial Params: [0.2 0.  1.4]\n",
            "Initial Likelihood: 1175.1499902739479\n",
            "`gtol` termination condition is satisfied.\n",
            "Number of iterations: 22, function evaluations: 72, CG iterations: 31, optimality: 7.05e-07, constraint violation: 0.00e+00, execution time: 0.12 s.\n",
            "Final Params: [2.59316604 0.         1.9764617 ]\n",
            "Final Likelihood: 1354.9266760013732\n",
            "\n",
            "Exact MLE: \n",
            "params      | [2.59316604 0.         1.9764617 ] \n",
            "sample size | 1000 \n",
            "likelihood  | 1354.9266760013732 \n",
            "AIC         | -2703.8533520027463\n",
            "BIC         | -2689.1300861658\n"
          ]
        }
      ]
    },
    {
      "cell_type": "code",
      "source": [
        "#task 3 - (CKLS) model, Euler method, estimate parametrs and compute confidence intervals\n",
        "\n",
        "def eueler_estimator(theta1, theta2, theta3, theta4, x0, N, delta):\n",
        "  model = CKLS()  \n",
        "  model.params = np.array([theta1, theta2, theta3, theta4])\n",
        "  seed = None  \n",
        "\n",
        "  simulator = Simulator1D(S0=x0, M=N, dt=delta, model=model).set_seed(seed=seed)\n",
        "  sample = simulator.sim_path()\n",
        "\n",
        "\n",
        "  param_bounds = [(0.01, 4), (0.1, 3.0), (0.01, 2.5), (0.01, 2.5)] # Set the parameter bounds for fitting  (kappa, mu, sigma)\n",
        "  guess = np.array([0.2, 1.3, 0.1, 0.1]) # Choose some initial guess for params fit\n",
        "\n",
        "  euler_est = AnalyticalMLE(sample, param_bounds, delta, density=EulerDensity(model)).estimate_params(guess)\n",
        "  return euler_est.params\n",
        "  \n",
        "x0 = 2\n",
        "N = 10000\n",
        "delta = 0.0001\n",
        "theta1 = 1\n",
        "theta2 = 2\n",
        "theta3 = 0.5\n",
        "theta4 = 0.3\n",
        "\n",
        "theta1_values = []\n",
        "theta2_values = []\n",
        "theta3_values = []\n",
        "theta4_values = []\n",
        "for i in range(10):\n",
        "  euler_est = eueler_estimator(theta1, theta2, theta3, theta4, x0, N, delta)\n",
        "  theta1_values.append(euler_est[0])\n",
        "  theta2_values.append(euler_est[1])\n",
        "  theta3_values.append(euler_est[2])\n",
        "  theta4_values.append(euler_est[3])\n",
        "\n",
        "print(stats.t.interval(0.95, df=len(theta1_values)-1, loc=np.mean(theta1_values), scale=stats.sem(theta1_values)))\n",
        "print(stats.t.interval(0.95, df=len(theta2_values)-1, loc=np.mean(theta2_values), scale=stats.sem(theta2_values)))\n",
        "print(stats.t.interval(0.95, df=len(theta3_values)-1, loc=np.mean(theta3_values), scale=stats.sem(theta3_values)))\n",
        "print(stats.t.interval(0.95, df=len(theta4_values)-1, loc=np.mean(theta4_values), scale=stats.sem(theta4_values)))"
      ],
      "metadata": {
        "colab": {
          "base_uri": "https://localhost:8080/"
        },
        "id": "267-CxPo4oOd",
        "outputId": "15d2d3c5-f4e5-4741-db9e-9b81ef2df6ca"
      },
      "execution_count": 22,
      "outputs": [
        {
          "output_type": "stream",
          "name": "stdout",
          "text": [
            "Initial Params: [0.2 1.3 0.1 0.1]\n",
            "Initial Likelihood: -156427.6135646423\n"
          ]
        },
        {
          "output_type": "stream",
          "name": "stderr",
          "text": [
            "/usr/local/lib/python3.8/dist-packages/scipy/optimize/_hessian_update_strategy.py:182: UserWarning: delta_grad == 0.0. Check if the approximated function is linear. If the function is linear better results can be obtained by defining the Hessian as zero instead of using quasi-Newton approximations.\n",
            "  warn('delta_grad == 0.0. Check if the approximated '\n"
          ]
        },
        {
          "output_type": "stream",
          "name": "stdout",
          "text": [
            "`xtol` termination condition is satisfied.\n",
            "Number of iterations: 57, function evaluations: 290, CG iterations: 168, optimality: 2.84e-04, constraint violation: 0.00e+00, execution time: 0.65 s.\n",
            "Final Params: [1.83843709 1.6797274  0.50525838 0.28888839]\n",
            "Final Likelihood: 33607.71727301592\n",
            "Initial Params: [0.2 1.3 0.1 0.1]\n",
            "Initial Likelihood: -141529.15186828814\n",
            "`xtol` termination condition is satisfied.\n",
            "Number of iterations: 67, function evaluations: 345, CG iterations: 177, optimality: 9.39e-05, constraint violation: 0.00e+00, execution time: 0.76 s.\n",
            "Final Params: [0.01002184 2.15865482 0.49932877 0.30323839]\n",
            "Final Likelihood: 34288.79661573828\n",
            "Initial Params: [0.2 1.3 0.1 0.1]\n",
            "Initial Likelihood: -157333.13748141195\n",
            "`xtol` termination condition is satisfied.\n",
            "Number of iterations: 67, function evaluations: 315, CG iterations: 193, optimality: 1.29e-04, constraint violation: 0.00e+00, execution time: 0.71 s.\n",
            "Final Params: [0.97286509 1.86622485 0.51019074 0.28623398]\n",
            "Final Likelihood: 33634.52305759263\n",
            "Initial Params: [0.2 1.3 0.1 0.1]\n",
            "Initial Likelihood: -167857.73556951113\n",
            "`xtol` termination condition is satisfied.\n",
            "Number of iterations: 104, function evaluations: 525, CG iterations: 301, optimality: 2.97e-04, constraint violation: 0.00e+00, execution time:  1.2 s.\n",
            "Final Params: [3.91381479 1.66131068 0.48642775 0.3081122 ]\n",
            "Final Likelihood: 32997.029312638435\n",
            "Initial Params: [0.2 1.3 0.1 0.1]\n",
            "Initial Likelihood: -158454.5552700293\n",
            "`xtol` termination condition is satisfied.\n",
            "Number of iterations: 91, function evaluations: 420, CG iterations: 221, optimality: 9.04e-05, constraint violation: 0.00e+00, execution time: 0.97 s.\n",
            "Final Params: [0.01002638 2.20678854 0.50747769 0.29039157]\n",
            "Final Likelihood: 33593.591323905326\n",
            "Initial Params: [0.2 1.3 0.1 0.1]\n",
            "Initial Likelihood: -163060.66017388366\n",
            "`xtol` termination condition is satisfied.\n",
            "Number of iterations: 84, function evaluations: 430, CG iterations: 229, optimality: 1.77e-04, constraint violation: 0.00e+00, execution time: 0.95 s.\n",
            "Final Params: [2.38460592 1.68057609 0.50962709 0.28795395]\n",
            "Final Likelihood: 33349.00077979006\n",
            "Initial Params: [0.2 1.3 0.1 0.1]\n",
            "Initial Likelihood: -163332.28112332392\n",
            "`xtol` termination condition is satisfied.\n",
            "Number of iterations: 70, function evaluations: 330, CG iterations: 215, optimality: 2.68e-04, constraint violation: 0.00e+00, execution time: 0.75 s.\n",
            "Final Params: [0.93723098 1.90530517 0.50829944 0.29051736]\n",
            "Final Likelihood: 33400.12830527302\n",
            "Initial Params: [0.2 1.3 0.1 0.1]\n",
            "Initial Likelihood: -156738.61918257712\n",
            "`xtol` termination condition is satisfied.\n",
            "Number of iterations: 66, function evaluations: 305, CG iterations: 193, optimality: 7.93e-05, constraint violation: 0.00e+00, execution time: 0.71 s.\n",
            "Final Params: [1.06966548 1.88309032 0.49346364 0.30450597]\n",
            "Final Likelihood: 33602.922841592655\n",
            "Initial Params: [0.2 1.3 0.1 0.1]\n",
            "Initial Likelihood: -162448.70481172524\n",
            "`xtol` termination condition is satisfied.\n",
            "Number of iterations: 82, function evaluations: 380, CG iterations: 221, optimality: 1.21e-04, constraint violation: 0.00e+00, execution time: 0.88 s.\n",
            "Final Params: [1.08669151 1.85813611 0.51189044 0.2895747 ]\n",
            "Final Likelihood: 33334.3906262852\n",
            "Initial Params: [0.2 1.3 0.1 0.1]\n",
            "Initial Likelihood: -162711.23748186172\n",
            "`xtol` termination condition is satisfied.\n",
            "Number of iterations: 63, function evaluations: 275, CG iterations: 181, optimality: 4.38e-04, constraint violation: 0.00e+00, execution time: 0.65 s.\n",
            "Final Params: [1.95732001 1.72846179 0.49369519 0.30820142]\n",
            "Final Likelihood: 33365.79671617549\n",
            "(0.5832726487292124, 2.252863169819836)\n",
            "(1.7251276431511657, 2.00052751268052)\n",
            "(0.4962947822354689, 0.5088370440504801)\n",
            "(0.2893048585487758, 0.30221872542160905)\n"
          ]
        }
      ]
    },
    {
      "cell_type": "code",
      "source": [],
      "metadata": {
        "id": "73TEtdyyGHG-"
      },
      "execution_count": null,
      "outputs": []
    }
  ]
}